{
 "cells": [
  {
   "cell_type": "markdown",
   "metadata": {},
   "source": [
    "## Display Map & Bounding Box Info"
   ]
  },
  {
   "cell_type": "code",
   "execution_count": 69,
   "metadata": {},
   "outputs": [
    {
     "data": {
      "application/vnd.jupyter.widget-view+json": {
       "model_id": "6eb25a0443ae4a62b2277571290ed626",
       "version_major": 2,
       "version_minor": 0
      },
      "text/plain": [
       "VBox(children=(HTML(value='<p></p> <p></p>'), HTML(value='<b><font size=5>BALTO User Interface</font></b>'), M…"
      ]
     },
     "metadata": {},
     "output_type": "display_data"
    },
    {
     "data": {
      "application/vnd.jupyter.widget-view+json": {
       "model_id": "3b92a9b8ee584c3786b4778b915569fc",
       "version_major": 2,
       "version_minor": 0
      },
      "text/plain": [
       "Output()"
      ]
     },
     "metadata": {},
     "output_type": "display_data"
    }
   ],
   "source": [
    "#===========================\n",
    "# Import required packages\n",
    "#===========================\n",
    "from ipyleaflet import Map\n",
    "import ipywidgets as widgets\n",
    "from ipywidgets import Layout\n",
    "from IPython.display import display\n",
    "\n",
    "#============================\n",
    "# Create the GUI components\n",
    "#============================\n",
    "p0 = widgets.HTML(value=f\"<p></p> <p></p>\")   # padding\n",
    "h0 = widgets.HTML(value=f\"<b><font size=5>BALTO User Interface</font></b>\")\n",
    "# h0 = widgets.Label('BALTO User Interface')\n",
    "\n",
    "# Create an interactive map with ipyleaflets\n",
    "map_width     = '600px'\n",
    "map_height    = '250px'\n",
    "url_box_width = '560px'\n",
    "m = Map(center=(0.0, 0.0), zoom=1, \n",
    "        layout=Layout(width=map_width, height=map_height))\n",
    "\n",
    "style0  = {'description_width': 'initial'}\n",
    "style1  = {'description_width': '130px'}\n",
    "style2  = {'description_width': '80px'}\n",
    "style3  = {'description_width': '50px'}\n",
    "# bbox_style = {'description_width': '130px'}\n",
    "bbox_style = {'description_width': '100px'}\n",
    "\n",
    "# w0 = widgets.HTML('<b>Geographic Bounding Box:</b>')\n",
    "\n",
    "#####################################################\n",
    "# Does \"step=001\" restrict accuracy of selection ??\n",
    "#####################################################\n",
    "bbox_width = '270px'\n",
    "w1 = widgets.BoundedFloatText(\n",
    "    value=-180, min=-180, max=180.0, step=0.01,\n",
    "    # description='West longitude:',\n",
    "    description='West edge lon:',\n",
    "    disabled=False, style=bbox_style,\n",
    "    layout=Layout(width=bbox_width) )\n",
    "    \n",
    "w2 = widgets.BoundedFloatText(\n",
    "    value=180, min=-180, max=180.0, step=0.01,\n",
    "    # description='East longitude:',\n",
    "    description='East edge lon:',\n",
    "    disabled=False, style=bbox_style,\n",
    "    layout=Layout(width=bbox_width) )\n",
    "    \n",
    "w3 = widgets.BoundedFloatText(\n",
    "    value=90, min=-90, max=90.0, step=0.01,\n",
    "    # description='North latitude:',\n",
    "    description='North edge lat:',\n",
    "    disabled=False, style=bbox_style,\n",
    "    layout=Layout(width=bbox_width) )\n",
    "    \n",
    "w4 = widgets.BoundedFloatText(\n",
    "    value=-90, min=-90, max=90.0, step=0.01,\n",
    "    # description='South latitude:',\n",
    "    description='South edge lat:',\n",
    "    disabled=False, style=bbox_style,\n",
    "    layout=Layout(width=bbox_width) )\n",
    "    \n",
    "# Date Range  (& Temporal Resolution ??)\n",
    "d1 = widgets.DatePicker( description='Start Date:',\n",
    "            disabled=False, style=style2)\n",
    "d2 = widgets.DatePicker( description='End Date:',\n",
    "            disabled=False, style=style2)\n",
    "\n",
    "# Variable Options\n",
    "n0 = widgets.HTML(value=f\"<p></p>\")   # padding\n",
    "n1 = widgets.Text(description='Variable name:',\n",
    "                  value='sea surface temperature',\n",
    "                  disabled=False, style=style0,\n",
    "                  layout=Layout(width='550px') )             \n",
    "\n",
    "#------------------------------\n",
    "# Example GES DISC opendap URL\n",
    "#------------------------------\n",
    "# https://gpm1.gesdisc.eosdis.nasa.gov/opendap/GPM_L3/GPM_3IMERGHHE.05/2014/\n",
    "# 091/3B-HHR-E.MS.MRG.3IMERG.20140401-S000000-E002959.0000.V05B.HDF5.nc\n",
    "# ?HQprecipitation[1999:2200][919:1049],lon[1999:2200],lat[919:1049]\n",
    "\n",
    "# OpenDAP Options\n",
    "o1 = widgets.Text(description='OpenDAP URL:',\n",
    "                  value='https://gpm1.gesdisc.eosdis.nasa.gov/opendap/',\n",
    "                  disabled=False, style=style1,\n",
    "                  layout=Layout(width=url_box_width))\n",
    "o2 = widgets.Dropdown( description='OpenDAP package:',\n",
    "                       options=['pydap', 'netcdf4'],\n",
    "                       value='pydap',\n",
    "                       disabled=False, style=style1)\n",
    "\n",
    "# Output File Format\n",
    "f1 = widgets.Dropdown( description='Output Format:',\n",
    "                       options=['HDF', 'netCDF', 'netCDF4'],\n",
    "                       value='netCDF',\n",
    "                       disabled=False, style=style0)\n",
    "\n",
    "## layout=Layout(width=map_width, height=map_height))\n",
    "\n",
    "# Buttons at the bottom\n",
    "b1 = widgets.Button(description=\"Download\")\n",
    "\n",
    "# Can use this for output\n",
    "status = widgets.Text(description=' Status:', style=style3,\n",
    "                      layout=Layout(width='380px') )\n",
    "\n",
    "log = widgets.Textarea( description='', value='',\n",
    "              disabled=False, style=style0,\n",
    "              layout=Layout(width='560px', height='100px'))\n",
    "\n",
    "#==========================\n",
    "# Event handler functions\n",
    "#==========================\n",
    "def download_data( b ):\n",
    "    status.value = 'Download button clicked.'\n",
    "    print_choices()\n",
    "    \n",
    "#==================================================================\n",
    "def show_bounds( **kwargs ):\n",
    "    event = kwargs.get('type')\n",
    "    # events: mouseup, mousedown, mousemove, mouseover, mouseout,\n",
    "    #         click, dblclick, preclick\n",
    "    if (event == 'mouseup') or (event == 'mousemove') or (event == 'dblclick'):\n",
    "        w1.value = m.west\n",
    "        w2.value = m.east\n",
    "        w3.value = m.north\n",
    "        w4.value = m.south\n",
    "        \n",
    "    # status.value = event\n",
    "    \n",
    "    # with output2:\n",
    "    #   print( event )\n",
    "#==================================================================\n",
    "\n",
    "#=====================\n",
    "# Utility functions\n",
    "#=====================\n",
    "def get_bounds():\n",
    "    return [m.west, m.south, m.east, m.north]\n",
    "\n",
    "#==================================================================\n",
    "def get_date_range():\n",
    "    return 0\n",
    "\n",
    "#==================================================================\n",
    "def get_opendap_package():\n",
    "    return o2.value\n",
    "\n",
    "#==================================================================\n",
    "def print_choices():\n",
    "    msg = 'bounds = ' + str(get_bounds()) + '\\n' + \\\n",
    "          'opendap package = ' + str(get_opendap_package()) + '\\n'\n",
    "    log.value = msg\n",
    "    \n",
    "#==================================================================\n",
    "    \n",
    "#===============================\n",
    "# Set up widget event handlers\n",
    "#===============================\n",
    "b1.on_click( download_data )\n",
    "m.on_interaction( show_bounds )\n",
    "\n",
    "#===========================\n",
    "# Set up the UI layout: V1\n",
    "#===========================\n",
    "# v1 = widgets.VBox([w1, w2, w3, w4])\n",
    "# v2 = widgets.VBox([d1, d2, n0, n1 ])\n",
    "# h1 = widgets.HBox([v1, v2])\n",
    "# h2 = widgets.VBox([o1, o2]) \n",
    "# h3 = widgets.HBox([b1, status])\n",
    "# ui = widgets.VBox([p0, h0, m, h1, h2, h3, p0, log])\n",
    "\n",
    "#======================================\n",
    "# Set up the UI layout: V2: Accordion\n",
    "#======================================\n",
    "v1a = widgets.VBox([w1, w2])\n",
    "v1b = widgets.VBox([w3, w4])\n",
    "v1  = widgets.HBox( [v1a, v1b])\n",
    "# v1  = widgets.VBox([w1, w2, w3, w4])\n",
    "v2  = widgets.VBox([d1, d2])\n",
    "v3  = widgets.VBox([n1])\n",
    "v4  = widgets.VBox([o1,o2])\n",
    "v5  = widgets.VBox([f1])\n",
    "h3  = widgets.HBox([b1, status])  ####\n",
    "v6  = widgets.VBox([h3, log])\n",
    "acc = widgets.Accordion( children=[v1, v2, v3, v4, v5, v6],\n",
    "                         selected_index=None,  # (all collapsed)\n",
    "                         layout=Layout(width=map_width) )\n",
    "acc.set_title(0,'Spatial Extent')\n",
    "acc.set_title(1,'Date Range')\n",
    "acc.set_title(2,'Variable')\n",
    "acc.set_title(3,'OpenDAP Server')\n",
    "acc.set_title(4,'Output Format')\n",
    "acc.set_title(5,'Download')\n",
    "# acc.set_title(4,'Output Format')\n",
    "ui = widgets.VBox([p0,h0,m,acc])\n",
    "\n",
    "#==========================\n",
    "# Display all the widgets\n",
    "#==========================\n",
    "gui_output  = widgets.Output()\n",
    "display(ui, gui_output)\n",
    "\n"
   ]
  },
  {
   "cell_type": "code",
   "execution_count": 2,
   "metadata": {},
   "outputs": [],
   "source": [
    "# For testing\n",
    "# Colorado_xmin = -109.060253\n",
    "# Colorado_xmax = -102.041524\n",
    "# Colorado_ymin = 36.992426\n",
    "# Colorado_ymax = 41.003444"
   ]
  },
  {
   "cell_type": "code",
   "execution_count": 3,
   "metadata": {},
   "outputs": [
    {
     "data": {
      "application/vnd.jupyter.widget-view+json": {
       "model_id": "1903e1d5d5fe4ff1828992d946c7779a",
       "version_major": 2,
       "version_minor": 0
      },
      "text/plain": [
       "Map(basemap={'url': 'https://{s}.tile.openstreetmap.org/{z}/{x}/{y}.png', 'max_zoom': 19, 'attribution': 'Map …"
      ]
     },
     "metadata": {},
     "output_type": "display_data"
    }
   ],
   "source": [
    "from ipyleaflet import Map, basemaps, basemap_to_tiles, Rectangle\n",
    "\n",
    "m = Map(\n",
    "    layers=(basemap_to_tiles(basemaps.NASAGIBS.ModisTerraTrueColorCR, \"2017-04-08\"), ),\n",
    "    center=(52.204793, 360.121558),\n",
    "    zoom=4\n",
    ")\n",
    "\n",
    "m"
   ]
  },
  {
   "cell_type": "code",
   "execution_count": 4,
   "metadata": {},
   "outputs": [],
   "source": [
    "rectangle = Rectangle(bounds=((46, 354), (52, 370)) )\n",
    "m.add_layer(rectangle)"
   ]
  },
  {
   "cell_type": "code",
   "execution_count": 5,
   "metadata": {},
   "outputs": [
    {
     "name": "stdout",
     "output_type": "stream",
     "text": [
      "Help on Map in module ipyleaflet.leaflet object:\n",
      "\n",
      "class Map(ipywidgets.widgets.domwidget.DOMWidget, InteractMixin)\n",
      " |  Map(*args, **kwargs)\n",
      " |  \n",
      " |  Widget that can be inserted into the DOM\n",
      " |  \n",
      " |  Method resolution order:\n",
      " |      Map\n",
      " |      ipywidgets.widgets.domwidget.DOMWidget\n",
      " |      ipywidgets.widgets.widget.Widget\n",
      " |      ipywidgets.widgets.widget.LoggingHasTraits\n",
      " |      traitlets.traitlets.HasTraits\n",
      " |      traitlets.traitlets.HasDescriptors\n",
      " |      InteractMixin\n",
      " |      builtins.object\n",
      " |  \n",
      " |  Methods defined here:\n",
      " |  \n",
      " |  __add__(self, item)\n",
      " |  \n",
      " |  __iadd__(self, item)\n",
      " |  \n",
      " |  __init__(self, **kwargs)\n",
      " |      Public constructor\n",
      " |  \n",
      " |  __isub__(self, item)\n",
      " |  \n",
      " |  add_control(self, control)\n",
      " |  \n",
      " |  add_layer(self, layer)\n",
      " |  \n",
      " |  clear_controls(self)\n",
      " |  \n",
      " |  clear_layers(self)\n",
      " |  \n",
      " |  on_interaction(self, callback, remove=False)\n",
      " |  \n",
      " |  remove_control(self, control)\n",
      " |  \n",
      " |  remove_layer(self, layer)\n",
      " |  \n",
      " |  substitute_layer(self, old, new)\n",
      " |  \n",
      " |  ----------------------------------------------------------------------\n",
      " |  Data descriptors defined here:\n",
      " |  \n",
      " |  attribution_control\n",
      " |      A boolean (True, False) trait.\n",
      " |  \n",
      " |  basemap\n",
      " |      An instance of a Python dict.\n",
      " |  \n",
      " |  bounce_at_zoom_limits\n",
      " |      A boolean (True, False) trait.\n",
      " |  \n",
      " |  bounds\n",
      " |      An instance of a Python tuple.\n",
      " |  \n",
      " |  bounds_polygon\n",
      " |      An instance of a Python tuple.\n",
      " |  \n",
      " |  box_zoom\n",
      " |      A boolean (True, False) trait.\n",
      " |  \n",
      " |  center\n",
      " |      An instance of a Python list.\n",
      " |  \n",
      " |  close_popup_on_click\n",
      " |      A boolean (True, False) trait.\n",
      " |  \n",
      " |  controls\n",
      " |      An instance of a Python tuple.\n",
      " |  \n",
      " |  crs\n",
      " |      An enum whose value must be in a given sequence.\n",
      " |  \n",
      " |  double_click_zoom\n",
      " |      A boolean (True, False) trait.\n",
      " |  \n",
      " |  dragging\n",
      " |      A boolean (True, False) trait.\n",
      " |  \n",
      " |  east\n",
      " |      A float trait.\n",
      " |  \n",
      " |  inertia\n",
      " |      A boolean (True, False) trait.\n",
      " |  \n",
      " |  inertia_deceleration\n",
      " |      An int trait.\n",
      " |  \n",
      " |  inertia_max_speed\n",
      " |      An int trait.\n",
      " |  \n",
      " |  interpolation\n",
      " |      A trait for unicode strings.\n",
      " |  \n",
      " |  keyboard\n",
      " |      A boolean (True, False) trait.\n",
      " |  \n",
      " |  keyboard_pan_offset\n",
      " |      An int trait.\n",
      " |  \n",
      " |  keyboard_zoom_offset\n",
      " |      An int trait.\n",
      " |  \n",
      " |  layers\n",
      " |      An instance of a Python tuple.\n",
      " |  \n",
      " |  max_zoom\n",
      " |      An int trait.\n",
      " |  \n",
      " |  min_zoom\n",
      " |      An int trait.\n",
      " |  \n",
      " |  modisdate\n",
      " |      A trait for unicode strings.\n",
      " |  \n",
      " |  north\n",
      " |      A float trait.\n",
      " |  \n",
      " |  options\n",
      " |      An instance of a Python list.\n",
      " |  \n",
      " |  scroll_wheel_zoom\n",
      " |      A boolean (True, False) trait.\n",
      " |  \n",
      " |  south\n",
      " |      A float trait.\n",
      " |  \n",
      " |  tap\n",
      " |      A boolean (True, False) trait.\n",
      " |  \n",
      " |  tap_tolerance\n",
      " |      An int trait.\n",
      " |  \n",
      " |  touch_zoom\n",
      " |      A boolean (True, False) trait.\n",
      " |  \n",
      " |  west\n",
      " |      A float trait.\n",
      " |  \n",
      " |  world_copy_jump\n",
      " |      A boolean (True, False) trait.\n",
      " |  \n",
      " |  zoom\n",
      " |      An int trait.\n",
      " |  \n",
      " |  zoom_animation_threshold\n",
      " |      An int trait.\n",
      " |  \n",
      " |  zoom_control\n",
      " |      A boolean (True, False) trait.\n",
      " |  \n",
      " |  zoom_start\n",
      " |      An int trait.\n",
      " |  \n",
      " |  ----------------------------------------------------------------------\n",
      " |  Methods inherited from ipywidgets.widgets.domwidget.DOMWidget:\n",
      " |  \n",
      " |  add_class(self, className)\n",
      " |      Adds a class to the top level element of the widget.\n",
      " |      \n",
      " |      Doesn't add the class if it already exists.\n",
      " |  \n",
      " |  remove_class(self, className)\n",
      " |      Removes a class from the top level element of the widget.\n",
      " |      \n",
      " |      Doesn't remove the class if it doesn't exist.\n",
      " |  \n",
      " |  ----------------------------------------------------------------------\n",
      " |  Data descriptors inherited from ipywidgets.widgets.domwidget.DOMWidget:\n",
      " |  \n",
      " |  layout\n",
      " |      An instance trait which coerces a dict to an instance.\n",
      " |      \n",
      " |      This lets the instance be specified as a dict, which is used\n",
      " |      to initialize the instance.\n",
      " |      \n",
      " |      Also, we default to a trivial instance, even if args and kwargs\n",
      " |      is not specified.\n",
      " |  \n",
      " |  ----------------------------------------------------------------------\n",
      " |  Methods inherited from ipywidgets.widgets.widget.Widget:\n",
      " |  \n",
      " |  __del__(self)\n",
      " |      Object disposal\n",
      " |  \n",
      " |  __repr__(self)\n",
      " |      Return repr(self).\n",
      " |  \n",
      " |  add_traits(self, **traits)\n",
      " |      Dynamically add trait attributes to the Widget.\n",
      " |  \n",
      " |  close(self)\n",
      " |      Close method.\n",
      " |      \n",
      " |      Closes the underlying comm.\n",
      " |      When the comm is closed, all of the widget views are automatically\n",
      " |      removed from the front-end.\n",
      " |  \n",
      " |  get_state(self, key=None, drop_defaults=False)\n",
      " |      Gets the widget state, or a piece of it.\n",
      " |      \n",
      " |      Parameters\n",
      " |      ----------\n",
      " |      key : unicode or iterable (optional)\n",
      " |          A single property's name or iterable of property names to get.\n",
      " |      \n",
      " |      Returns\n",
      " |      -------\n",
      " |      state : dict of states\n",
      " |      metadata : dict\n",
      " |          metadata for each field: {key: metadata}\n",
      " |  \n",
      " |  get_view_spec(self)\n",
      " |  \n",
      " |  hold_sync(self)\n",
      " |      Hold syncing any state until the outermost context manager exits\n",
      " |  \n",
      " |  notify_change(self, change)\n",
      " |      Called when a property has changed.\n",
      " |  \n",
      " |  on_displayed(self, callback, remove=False)\n",
      " |      (Un)Register a widget displayed callback.\n",
      " |      \n",
      " |      Parameters\n",
      " |      ----------\n",
      " |      callback: method handler\n",
      " |          Must have a signature of::\n",
      " |      \n",
      " |              callback(widget, **kwargs)\n",
      " |      \n",
      " |          kwargs from display are passed through without modification.\n",
      " |      remove: bool\n",
      " |          True if the callback should be unregistered.\n",
      " |  \n",
      " |  on_msg(self, callback, remove=False)\n",
      " |      (Un)Register a custom msg receive callback.\n",
      " |      \n",
      " |      Parameters\n",
      " |      ----------\n",
      " |      callback: callable\n",
      " |          callback will be passed three arguments when a message arrives::\n",
      " |      \n",
      " |              callback(widget, content, buffers)\n",
      " |      \n",
      " |      remove: bool\n",
      " |          True if the callback should be unregistered.\n",
      " |  \n",
      " |  open(self)\n",
      " |      Open a comm to the frontend if one isn't already open.\n",
      " |  \n",
      " |  send(self, content, buffers=None)\n",
      " |      Sends a custom msg to the widget model in the front-end.\n",
      " |      \n",
      " |      Parameters\n",
      " |      ----------\n",
      " |      content : dict\n",
      " |          Content of the message to send.\n",
      " |      buffers : list of binary buffers\n",
      " |          Binary buffers to send with message\n",
      " |  \n",
      " |  send_state(self, key=None)\n",
      " |      Sends the widget state, or a piece of it, to the front-end, if it exists.\n",
      " |      \n",
      " |      Parameters\n",
      " |      ----------\n",
      " |      key : unicode, or iterable (optional)\n",
      " |          A single property's name or iterable of property names to sync with the front-end.\n",
      " |  \n",
      " |  set_state(self, sync_data)\n",
      " |      Called when a state is received from the front-end.\n",
      " |  \n",
      " |  ----------------------------------------------------------------------\n",
      " |  Class methods inherited from ipywidgets.widgets.widget.Widget:\n",
      " |  \n",
      " |  close_all() from traitlets.traitlets.MetaHasTraits\n",
      " |  \n",
      " |  ----------------------------------------------------------------------\n",
      " |  Static methods inherited from ipywidgets.widgets.widget.Widget:\n",
      " |  \n",
      " |  get_manager_state(drop_defaults=False, widgets=None)\n",
      " |      Returns the full state for a widget manager for embedding\n",
      " |      \n",
      " |      :param drop_defaults: when True, it will not include default value\n",
      " |      :param widgets: list with widgets to include in the state (or all widgets when None)\n",
      " |      :return:\n",
      " |  \n",
      " |  handle_comm_opened(comm, msg)\n",
      " |      Static method, called when a widget is constructed.\n",
      " |  \n",
      " |  on_widget_constructed(callback)\n",
      " |      Registers a callback to be called when a widget is constructed.\n",
      " |      \n",
      " |      The callback must have the following signature:\n",
      " |      callback(widget)\n",
      " |  \n",
      " |  ----------------------------------------------------------------------\n",
      " |  Data descriptors inherited from ipywidgets.widgets.widget.Widget:\n",
      " |  \n",
      " |  comm\n",
      " |      A trait whose value must be an instance of a specified class.\n",
      " |      \n",
      " |      The value can also be an instance of a subclass of the specified class.\n",
      " |      \n",
      " |      Subclasses can declare default classes by overriding the klass attribute\n",
      " |  \n",
      " |  keys\n",
      " |      An instance of a Python list.\n",
      " |  \n",
      " |  model_id\n",
      " |      Gets the model id of this widget.\n",
      " |      \n",
      " |      If a Comm doesn't exist yet, a Comm will be created automagically.\n",
      " |  \n",
      " |  ----------------------------------------------------------------------\n",
      " |  Data and other attributes inherited from ipywidgets.widgets.widget.Widget:\n",
      " |  \n",
      " |  widget_types = <ipywidgets.widgets.widget.WidgetRegistry object>\n",
      " |  \n",
      " |  widgets = {'00c8765a0f594ad2b00a5e65e73f2b34': DescriptionStyle(descri...\n",
      " |  \n",
      " |  ----------------------------------------------------------------------\n",
      " |  Data descriptors inherited from ipywidgets.widgets.widget.LoggingHasTraits:\n",
      " |  \n",
      " |  log\n",
      " |      A trait whose value must be an instance of a specified class.\n",
      " |      \n",
      " |      The value can also be an instance of a subclass of the specified class.\n",
      " |      \n",
      " |      Subclasses can declare default classes by overriding the klass attribute\n",
      " |  \n",
      " |  ----------------------------------------------------------------------\n",
      " |  Methods inherited from traitlets.traitlets.HasTraits:\n",
      " |  \n",
      " |  __getstate__(self)\n",
      " |  \n",
      " |  __setstate__(self, state)\n",
      " |  \n",
      " |  has_trait(self, name)\n",
      " |      Returns True if the object has a trait with the specified name.\n",
      " |  \n",
      " |  hold_trait_notifications(self)\n",
      " |      Context manager for bundling trait change notifications and cross\n",
      " |      validation.\n",
      " |      \n",
      " |      Use this when doing multiple trait assignments (init, config), to avoid\n",
      " |      race conditions in trait notifiers requesting other trait values.\n",
      " |      All trait notifications will fire after all values have been assigned.\n",
      " |  \n",
      " |  observe(self, handler, names=traitlets.All, type='change')\n",
      " |      Setup a handler to be called when a trait changes.\n",
      " |      \n",
      " |      This is used to setup dynamic notifications of trait changes.\n",
      " |      \n",
      " |      Parameters\n",
      " |      ----------\n",
      " |      handler : callable\n",
      " |          A callable that is called when a trait changes. Its\n",
      " |          signature should be ``handler(change)``, where ``change`` is a\n",
      " |          dictionary. The change dictionary at least holds a 'type' key.\n",
      " |          * ``type``: the type of notification.\n",
      " |          Other keys may be passed depending on the value of 'type'. In the\n",
      " |          case where type is 'change', we also have the following keys:\n",
      " |          * ``owner`` : the HasTraits instance\n",
      " |          * ``old`` : the old value of the modified trait attribute\n",
      " |          * ``new`` : the new value of the modified trait attribute\n",
      " |          * ``name`` : the name of the modified trait attribute.\n",
      " |      names : list, str, All\n",
      " |          If names is All, the handler will apply to all traits.  If a list\n",
      " |          of str, handler will apply to all names in the list.  If a\n",
      " |          str, the handler will apply just to that name.\n",
      " |      type : str, All (default: 'change')\n",
      " |          The type of notification to filter by. If equal to All, then all\n",
      " |          notifications are passed to the observe handler.\n",
      " |  \n",
      " |  on_trait_change(self, handler=None, name=None, remove=False)\n",
      " |      DEPRECATED: Setup a handler to be called when a trait changes.\n",
      " |      \n",
      " |      This is used to setup dynamic notifications of trait changes.\n",
      " |      \n",
      " |      Static handlers can be created by creating methods on a HasTraits\n",
      " |      subclass with the naming convention '_[traitname]_changed'.  Thus,\n",
      " |      to create static handler for the trait 'a', create the method\n",
      " |      _a_changed(self, name, old, new) (fewer arguments can be used, see\n",
      " |      below).\n",
      " |      \n",
      " |      If `remove` is True and `handler` is not specified, all change\n",
      " |      handlers for the specified name are uninstalled.\n",
      " |      \n",
      " |      Parameters\n",
      " |      ----------\n",
      " |      handler : callable, None\n",
      " |          A callable that is called when a trait changes.  Its\n",
      " |          signature can be handler(), handler(name), handler(name, new),\n",
      " |          handler(name, old, new), or handler(name, old, new, self).\n",
      " |      name : list, str, None\n",
      " |          If None, the handler will apply to all traits.  If a list\n",
      " |          of str, handler will apply to all names in the list.  If a\n",
      " |          str, the handler will apply just to that name.\n",
      " |      remove : bool\n",
      " |          If False (the default), then install the handler.  If True\n",
      " |          then unintall it.\n",
      " |  \n",
      " |  set_trait(self, name, value)\n",
      " |      Forcibly sets trait attribute, including read-only attributes.\n",
      " |  \n",
      " |  setup_instance(self, *args, **kwargs)\n",
      " |      This is called **before** self.__init__ is called.\n",
      " |  \n",
      " |  trait_metadata(self, traitname, key, default=None)\n",
      " |      Get metadata values for trait by key.\n",
      " |  \n",
      " |  trait_names(self, **metadata)\n",
      " |      Get a list of all the names of this class' traits.\n",
      " |  \n",
      " |  traits(self, **metadata)\n",
      " |      Get a ``dict`` of all the traits of this class.  The dictionary\n",
      " |      is keyed on the name and the values are the TraitType objects.\n",
      " |      \n",
      " |      The TraitTypes returned don't know anything about the values\n",
      " |      that the various HasTrait's instances are holding.\n",
      " |      \n",
      " |      The metadata kwargs allow functions to be passed in which\n",
      " |      filter traits based on metadata values.  The functions should\n",
      " |      take a single value as an argument and return a boolean.  If\n",
      " |      any function returns False, then the trait is not included in\n",
      " |      the output.  If a metadata key doesn't exist, None will be passed\n",
      " |      to the function.\n",
      " |  \n",
      " |  unobserve(self, handler, names=traitlets.All, type='change')\n",
      " |      Remove a trait change handler.\n",
      " |      \n",
      " |      This is used to unregister handlers to trait change notifications.\n",
      " |      \n",
      " |      Parameters\n",
      " |      ----------\n",
      " |      handler : callable\n",
      " |          The callable called when a trait attribute changes.\n",
      " |      names : list, str, All (default: All)\n",
      " |          The names of the traits for which the specified handler should be\n",
      " |          uninstalled. If names is All, the specified handler is uninstalled\n",
      " |          from the list of notifiers corresponding to all changes.\n",
      " |      type : str or All (default: 'change')\n",
      " |          The type of notification to filter by. If All, the specified handler\n",
      " |          is uninstalled from the list of notifiers corresponding to all types.\n",
      " |  \n",
      " |  unobserve_all(self, name=traitlets.All)\n",
      " |      Remove trait change handlers of any type for the specified name.\n",
      " |      If name is not specified, removes all trait notifiers.\n",
      " |  \n",
      " |  ----------------------------------------------------------------------\n",
      " |  Class methods inherited from traitlets.traitlets.HasTraits:\n",
      " |  \n",
      " |  class_own_trait_events(name) from traitlets.traitlets.MetaHasTraits\n",
      " |      Get a dict of all event handlers defined on this class, not a parent.\n",
      " |      \n",
      " |      Works like ``event_handlers``, except for excluding traits from parents.\n",
      " |  \n",
      " |  class_own_traits(**metadata) from traitlets.traitlets.MetaHasTraits\n",
      " |      Get a dict of all the traitlets defined on this class, not a parent.\n",
      " |      \n",
      " |      Works like `class_traits`, except for excluding traits from parents.\n",
      " |  \n",
      " |  class_trait_names(**metadata) from traitlets.traitlets.MetaHasTraits\n",
      " |      Get a list of all the names of this class' traits.\n",
      " |      \n",
      " |      This method is just like the :meth:`trait_names` method,\n",
      " |      but is unbound.\n",
      " |  \n",
      " |  class_traits(**metadata) from traitlets.traitlets.MetaHasTraits\n",
      " |      Get a ``dict`` of all the traits of this class.  The dictionary\n",
      " |      is keyed on the name and the values are the TraitType objects.\n",
      " |      \n",
      " |      This method is just like the :meth:`traits` method, but is unbound.\n",
      " |      \n",
      " |      The TraitTypes returned don't know anything about the values\n",
      " |      that the various HasTrait's instances are holding.\n",
      " |      \n",
      " |      The metadata kwargs allow functions to be passed in which\n",
      " |      filter traits based on metadata values.  The functions should\n",
      " |      take a single value as an argument and return a boolean.  If\n",
      " |      any function returns False, then the trait is not included in\n",
      " |      the output.  If a metadata key doesn't exist, None will be passed\n",
      " |      to the function.\n",
      " |  \n",
      " |  trait_events(name=None) from traitlets.traitlets.MetaHasTraits\n",
      " |      Get a ``dict`` of all the event handlers of this class.\n",
      " |      \n",
      " |      Parameters\n",
      " |      ----------\n",
      " |      name: str (default: None)\n",
      " |          The name of a trait of this class. If name is ``None`` then all\n",
      " |          the event handlers of this class will be returned instead.\n",
      " |      \n",
      " |      Returns\n",
      " |      -------\n",
      " |      The event handlers associated with a trait name, or all event handlers.\n",
      " |  \n",
      " |  ----------------------------------------------------------------------\n",
      " |  Data descriptors inherited from traitlets.traitlets.HasTraits:\n",
      " |  \n",
      " |  cross_validation_lock\n",
      " |      A contextmanager for running a block with our cross validation lock set\n",
      " |      to True.\n",
      " |      \n",
      " |      At the end of the block, the lock's value is restored to its value\n",
      " |      prior to entering the block.\n",
      " |  \n",
      " |  ----------------------------------------------------------------------\n",
      " |  Static methods inherited from traitlets.traitlets.HasDescriptors:\n",
      " |  \n",
      " |  __new__(cls, *args, **kwargs)\n",
      " |      Create and return a new object.  See help(type) for accurate signature.\n",
      " |  \n",
      " |  ----------------------------------------------------------------------\n",
      " |  Data descriptors inherited from traitlets.traitlets.HasDescriptors:\n",
      " |  \n",
      " |  __dict__\n",
      " |      dictionary for instance variables (if defined)\n",
      " |  \n",
      " |  __weakref__\n",
      " |      list of weak references to the object (if defined)\n",
      " |  \n",
      " |  ----------------------------------------------------------------------\n",
      " |  Methods inherited from InteractMixin:\n",
      " |  \n",
      " |  interact(self, **kwargs)\n",
      "\n"
     ]
    }
   ],
   "source": [
    "help(m)"
   ]
  },
  {
   "cell_type": "code",
   "execution_count": 6,
   "metadata": {},
   "outputs": [
    {
     "data": {
      "application/vnd.jupyter.widget-view+json": {
       "model_id": "a6d033edbca44c2abc61c7549f5d3599",
       "version_major": 2,
       "version_minor": 0
      },
      "text/plain": [
       "Map(basemap={'url': 'https://{s}.tile.openstreetmap.org/{z}/{x}/{y}.png', 'max_zoom': 19, 'attribution': 'Map …"
      ]
     },
     "metadata": {},
     "output_type": "display_data"
    }
   ],
   "source": [
    "from ipyleaflet import Marker\n",
    "\n",
    "center = (52.204793, 360.121558)\n",
    "\n",
    "m = Map(center=center, zoom=15)\n",
    "\n",
    "marker = Marker(location=center, draggable=False)\n",
    "m.add_layer(marker);\n",
    "\n",
    "m"
   ]
  },
  {
   "cell_type": "code",
   "execution_count": 7,
   "metadata": {},
   "outputs": [
    {
     "data": {
      "application/vnd.jupyter.widget-view+json": {
       "model_id": "c652620d864d416797be7fd395083405",
       "version_major": 2,
       "version_minor": 0
      },
      "text/plain": [
       "Map(basemap={'url': 'https://{s}.tile.openstreetmap.org/{z}/{x}/{y}.png', 'max_zoom': 19, 'attribution': 'Map …"
      ]
     },
     "metadata": {},
     "output_type": "display_data"
    }
   ],
   "source": [
    "from ipyleaflet import Map, WMSLayer\n",
    "\n",
    "wms = WMSLayer(\n",
    "    url=\"https://demo.boundlessgeo.com/geoserver/ows?\",\n",
    "    layers=\"nasa:bluemarble\"\n",
    ")\n",
    "\n",
    "m = Map(layers=(wms, ), center=(42.5531, -48.6914), zoom=3)\n",
    "\n",
    "m"
   ]
  },
  {
   "cell_type": "code",
   "execution_count": 8,
   "metadata": {},
   "outputs": [
    {
     "data": {
      "application/vnd.jupyter.widget-view+json": {
       "model_id": "25297824d803416a9391e494fb6a86f9",
       "version_major": 2,
       "version_minor": 0
      },
      "text/plain": [
       "Map(basemap={'url': 'https://{s}.tile.openstreetmap.org/{z}/{x}/{y}.png', 'max_zoom': 19, 'attribution': 'Map …"
      ]
     },
     "metadata": {},
     "output_type": "display_data"
    }
   ],
   "source": [
    "from ipyleaflet import Map, VideoOverlay\n",
    "\n",
    "m = Map(center=(25, -115), zoom=4)\n",
    "\n",
    "video = VideoOverlay(\n",
    "    url=\"https://www.mapbox.com/bites/00188/patricia_nasa.webm\",\n",
    "    bounds=((13, -130), (32, -100))\n",
    ")\n",
    "\n",
    "m.add_layer(video);\n",
    "m"
   ]
  },
  {
   "cell_type": "markdown",
   "metadata": {},
   "source": [
    "## Download NetCDF test file from OpenDAP server with pydap"
   ]
  },
  {
   "cell_type": "code",
   "execution_count": 9,
   "metadata": {},
   "outputs": [
    {
     "name": "stdout",
     "output_type": "stream",
     "text": [
      "(12, 90, 180)\n",
      ">f4\n",
      "[array([[[-1.2628571e+00, -9.9999998e+33, -9.9999998e+33, -9.9999998e+33],\n",
      "        [-7.6916665e-01, -7.7999997e-01, -6.7545450e-01, -5.9571427e-01],\n",
      "        [ 1.2833333e-01, -5.0000016e-02, -6.3636363e-02, -1.4166667e-01],\n",
      "        [ 6.3800001e-01,  8.9538461e-01,  7.2166663e-01,  8.1000000e-01]]],\n",
      "      dtype=float32), array([366.]), array([-69., -67., -65., -63.]), array([41., 43., 45., 47.])]\n"
     ]
    }
   ],
   "source": [
    "import pydap\n",
    "from pydap.client import open_url\n",
    "dataset = open_url('http://test.opendap.org/dap/data/nc/coads_climatology.nc')\n",
    "var = dataset['SST']\n",
    "print(var.shape)\n",
    "print(var.dtype)\n",
    "data = var[0,10:14,10:14]  # this will download data from the server\n",
    "data\n",
    "print(data.data)\n"
   ]
  },
  {
   "cell_type": "markdown",
   "metadata": {},
   "source": [
    "## Display equations with TeX formatting (as markdown cell)"
   ]
  },
  {
   "cell_type": "markdown",
   "metadata": {},
   "source": [
    "$e^{i \\, \\pi} + 1 = 0$"
   ]
  },
  {
   "cell_type": "markdown",
   "metadata": {},
   "source": [
    "## Test Jupyter Widgets"
   ]
  },
  {
   "cell_type": "code",
   "execution_count": 10,
   "metadata": {},
   "outputs": [
    {
     "data": {
      "application/vnd.jupyter.widget-view+json": {
       "model_id": "c1cd5e21ea974fc0bb8ef38310fd7c20",
       "version_major": 2,
       "version_minor": 0
      },
      "text/plain": [
       "IntSlider(value=33)"
      ]
     },
     "metadata": {},
     "output_type": "display_data"
    }
   ],
   "source": [
    "import ipywidgets as widgets\n",
    "from ipywidgets import interact, interactive  ##, fixed, interact_manual\n",
    "from IPython.display import display\n",
    "\n",
    "w = widgets.IntSlider()\n",
    "w.value = 33\n",
    "display(w)\n"
   ]
  },
  {
   "cell_type": "code",
   "execution_count": 11,
   "metadata": {},
   "outputs": [
    {
     "data": {
      "text/plain": [
       "33"
      ]
     },
     "execution_count": 11,
     "metadata": {},
     "output_type": "execute_result"
    }
   ],
   "source": [
    "w.value"
   ]
  },
  {
   "cell_type": "code",
   "execution_count": 12,
   "metadata": {},
   "outputs": [
    {
     "data": {
      "application/vnd.jupyter.widget-view+json": {
       "model_id": "46df1e6de1704303907a8cd52b1df42c",
       "version_major": 2,
       "version_minor": 0
      },
      "text/plain": [
       "interactive(children=(IntSlider(value=10, description='x', max=30, min=-10), Output()), _dom_classes=('widget-…"
      ]
     },
     "metadata": {},
     "output_type": "display_data"
    }
   ],
   "source": [
    "def f(x):\n",
    "    return x\n",
    "interact(f, x=10);"
   ]
  },
  {
   "cell_type": "code",
   "execution_count": 13,
   "metadata": {
    "hide_input": true
   },
   "outputs": [
    {
     "data": {
      "application/vnd.jupyter.widget-view+json": {
       "model_id": "539f040159c94625a47a022e8caa2bbf",
       "version_major": 2,
       "version_minor": 0
      },
      "text/plain": [
       "interactive(children=(IntSlider(value=10, description='a', max=30, min=-10), IntSlider(value=20, description='…"
      ]
     },
     "metadata": {},
     "output_type": "display_data"
    }
   ],
   "source": [
    "def f(a, b):\n",
    "    display(a + b)\n",
    "    return a+b\n",
    "\n",
    "w = interactive(f, a=10, b=20)\n",
    "display(w)"
   ]
  },
  {
   "cell_type": "code",
   "execution_count": 14,
   "metadata": {},
   "outputs": [
    {
     "data": {
      "application/vnd.jupyter.widget-view+json": {
       "model_id": "875843745b184aa3b2d5834583e801be",
       "version_major": 2,
       "version_minor": 0
      },
      "text/plain": [
       "Dropdown(description='OpenDAP package:', options=('pydap', 'netcdf4'), style=DescriptionStyle(description_widt…"
      ]
     },
     "metadata": {},
     "output_type": "display_data"
    }
   ],
   "source": [
    "style = {'description_width': 'initial'}\n",
    "widgets.Dropdown(\n",
    "    options=['pydap', 'netcdf4'],\n",
    "    value='pydap',\n",
    "    description='OpenDAP package:',\n",
    "    disabled=False,\n",
    "    style=style\n",
    ")"
   ]
  },
  {
   "cell_type": "code",
   "execution_count": 15,
   "metadata": {},
   "outputs": [
    {
     "data": {
      "application/vnd.jupyter.widget-view+json": {
       "model_id": "3f817bba96ee4b9093f1ee91b09c19b2",
       "version_major": 2,
       "version_minor": 0
      },
      "text/plain": [
       "DatePicker(value=None, description='Pick a Date')"
      ]
     },
     "metadata": {},
     "output_type": "display_data"
    }
   ],
   "source": [
    "widgets.DatePicker(\n",
    "    description='Pick a Date',\n",
    "    disabled=False\n",
    ")"
   ]
  },
  {
   "cell_type": "code",
   "execution_count": 16,
   "metadata": {},
   "outputs": [
    {
     "data": {
      "application/vnd.jupyter.widget-view+json": {
       "model_id": "55ec5a9b56f843d3b6a32e2c4434085d",
       "version_major": 2,
       "version_minor": 0
      },
      "text/plain": [
       "VBox(children=(IntSlider(value=0), IntSlider(value=0), IntSlider(value=0)))"
      ]
     },
     "metadata": {},
     "output_type": "display_data"
    },
    {
     "data": {
      "application/vnd.jupyter.widget-view+json": {
       "model_id": "5f35455000db481e9f3a558369a42691",
       "version_major": 2,
       "version_minor": 0
      },
      "text/plain": [
       "Output()"
      ]
     },
     "metadata": {},
     "output_type": "display_data"
    }
   ],
   "source": [
    "a = widgets.IntSlider()\n",
    "b = widgets.IntSlider()\n",
    "c = widgets.IntSlider()\n",
    "ui = widgets.VBox([a, b, c])\n",
    "def f(a, b, c):\n",
    "    print((a, b, c))\n",
    "\n",
    "out = widgets.interactive_output(f, {'a': a, 'b': b, 'c': c})\n",
    "\n",
    "display(ui, out)"
   ]
  },
  {
   "cell_type": "code",
   "execution_count": 17,
   "metadata": {},
   "outputs": [
    {
     "data": {
      "application/vnd.jupyter.widget-view+json": {
       "model_id": "8ae740f5f48149ef8cd08706220b8ff6",
       "version_major": 2,
       "version_minor": 0
      },
      "text/plain": [
       "interactive(children=(BoundedFloatText(value=0.0, description='West edge longitude:', max=180.0, min=-180.0, s…"
      ]
     },
     "metadata": {},
     "output_type": "display_data"
    }
   ],
   "source": [
    "def f(x,y,z,z2):\n",
    "    display(x + y + z + z2)\n",
    "    return (x+y+z+z2)\n",
    "\n",
    "style = {'description_width': '160px'}\n",
    "w = interactive(f, x = widgets.BoundedFloatText(\n",
    "    value=m.west,\n",
    "    min=-180,\n",
    "    max=180.0,\n",
    "    step=0.01,\n",
    "    description='West edge longitude:',\n",
    "    disabled=False, style=style),\n",
    "    y = widgets.BoundedFloatText(\n",
    "    value=m.east,\n",
    "    min=-180,\n",
    "    max=180.0,\n",
    "    step=0.01,\n",
    "    description='East edge longitude:',\n",
    "    disabled=False, style=style),\n",
    "    z = widgets.BoundedFloatText(\n",
    "    value=m.north,\n",
    "    min=-90,\n",
    "    max=90.0,\n",
    "    step=0.01,\n",
    "    description='North edge latitude:',\n",
    "    disabled=False, style=style ),\n",
    "    z2 = widgets.BoundedFloatText(\n",
    "    value=m.south,\n",
    "    min=-90,\n",
    "    max=90.0,\n",
    "    step=0.01,\n",
    "    description='South edge latitude:',\n",
    "    disabled=False, style=style ))\n",
    "display(w)"
   ]
  },
  {
   "cell_type": "code",
   "execution_count": 18,
   "metadata": {},
   "outputs": [
    {
     "data": {
      "application/vnd.jupyter.widget-view+json": {
       "model_id": "10e8bbdf3df94ec9b1c86761a22ee707",
       "version_major": 2,
       "version_minor": 0
      },
      "text/plain": [
       "Button(description='Click Me!', style=ButtonStyle())"
      ]
     },
     "metadata": {},
     "output_type": "display_data"
    },
    {
     "data": {
      "application/vnd.jupyter.widget-view+json": {
       "model_id": "03985b7a9a18435abe77a3ef1b5d3911",
       "version_major": 2,
       "version_minor": 0
      },
      "text/plain": [
       "Output()"
      ]
     },
     "metadata": {},
     "output_type": "display_data"
    }
   ],
   "source": [
    "from IPython.display import display\n",
    "button = widgets.Button(description=\"Click Me!\")\n",
    "output = widgets.Output()\n",
    "\n",
    "display(button, output)\n",
    "\n",
    "def on_button_clicked(b):\n",
    "    with output:\n",
    "        print(\"Button clicked.\")\n",
    "\n",
    "button.on_click(on_button_clicked)"
   ]
  },
  {
   "cell_type": "code",
   "execution_count": null,
   "metadata": {},
   "outputs": [],
   "source": []
  }
 ],
 "metadata": {
  "kernelspec": {
   "display_name": "Python [conda env:balto] *",
   "language": "python",
   "name": "conda-env-balto-py"
  },
  "language_info": {
   "codemirror_mode": {
    "name": "ipython",
    "version": 3
   },
   "file_extension": ".py",
   "mimetype": "text/x-python",
   "name": "python",
   "nbconvert_exporter": "python",
   "pygments_lexer": "ipython3",
   "version": "3.7.3"
  }
 },
 "nbformat": 4,
 "nbformat_minor": 2
}
