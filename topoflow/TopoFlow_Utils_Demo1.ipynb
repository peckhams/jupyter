{
 "cells": [
  {
   "cell_type": "markdown",
   "metadata": {},
   "source": [
    "# Create some directories in your home directory"
   ]
  },
  {
   "cell_type": "code",
   "execution_count": 1,
   "metadata": {
    "collapsed": false
   },
   "outputs": [],
   "source": [
    "import os\n",
    "import os.path\n",
    "os.chdir('/Users/peckhams')\n",
    "if not(os.path.exists('TF_Tests')): os.mkdir('TF_Tests')\n",
    "os.chdir('TF_Tests')\n",
    "if not(os.path.exists('Basin1')): os.mkdir('Basin1')\n",
    "os.chdir('Basin1')"
   ]
  },
  {
   "cell_type": "markdown",
   "metadata": {},
   "source": [
    "# Import some utilities from TopoFlow"
   ]
  },
  {
   "cell_type": "code",
   "execution_count": 2,
   "metadata": {
    "collapsed": false
   },
   "outputs": [
    {
     "name": "stdout",
     "output_type": "stream",
     "text": [
      "Importing TopoFlow 3.5 packages:\n",
      "   topoflow.utils\n",
      "   topoflow.utils.tests\n",
      "   topoflow.components\n",
      "   topoflow.components.tests\n",
      "   topoflow.framework\n",
      "   topoflow.framework.tests\n",
      " \n",
      "Paths for this package:\n",
      "framework_dir = /Users/peckhams/Dropbox/TopoFlow_3.5/topoflow/framework/\n",
      "parent_dir    = /Users/peckhams/Dropbox/TopoFlow_3.5/topoflow/\n",
      "examples_dir  = /Users/peckhams/Dropbox/TopoFlow_3.5/topoflow/examples/\n",
      "__file__      = /Users/peckhams/Dropbox/TopoFlow_3.5/topoflow/framework/emeli.pyc\n",
      "__name__      = topoflow.framework.emeli\n",
      " \n"
     ]
    }
   ],
   "source": [
    "from topoflow.utils import fill_pits\n",
    "from topoflow.utils import rtg_files\n",
    "from topoflow.utils import rti_files"
   ]
  },
  {
   "cell_type": "markdown",
   "metadata": {},
   "source": [
    "# Read in a DEM with depressions"
   ]
  },
  {
   "cell_type": "code",
   "execution_count": 3,
   "metadata": {
    "collapsed": false
   },
   "outputs": [
    {
     "name": "stdout",
     "output_type": "stream",
     "text": [
      "-----------------\n",
      "Grid Information\n",
      "-----------------\n",
      "grid_file    = KY_Sub_rawDEM.rtg\n",
      "data_source  = USGS 1-Degree\n",
      "ncols        = 408\n",
      "nrows        = 468\n",
      "data_type    = INTEGER\n",
      "byte_order   = LSB\n",
      "pixel_geom   = 0\n",
      "xres         = 3.0\n",
      "yres         = 3.0\n",
      "zres         = 1.0\n",
      "z_units      = METERS\n",
      "y_south_edge = 37.25\n",
      "y_north_edge = 37.639999\n",
      "x_east_edge  = -82.625\n",
      "x_west_edge  = -82.964996\n",
      "box_units    = DEGREES\n",
      "gmin         = 183.0\n",
      "gmax         = 701.0\n",
      "UTM_zone     = UNKNOWN\n",
      " \n",
      "Reading grid values...\n",
      "Finished reading grid from:\n",
      "  /Users/peckhams/TF_Tests/Basin1/KY_Sub_rawdem.rtg\n"
     ]
    }
   ],
   "source": [
    "in_dir = '/Users/peckhams/TF_Tests/Basin1/'\n",
    "in_prefix = in_dir + 'KY_Sub'\n",
    "DEM_file = in_prefix + '_rawdem.rtg'\n",
    "header_file = in_prefix + '.rti'\n",
    "grid_info = rti_files.read_info( DEM_file, REPORT=True )\n",
    "DEM = rtg_files.read_grid( DEM_file, grid_info, SILENT=False )\n",
    "# DEM = rtg_files.read_grid( DEM_file, grid_info, RTG_type='INTEGER', SILENT=False )"
   ]
  },
  {
   "cell_type": "markdown",
   "metadata": {},
   "source": [
    "# Fill depressions in DEM"
   ]
  },
  {
   "cell_type": "code",
   "execution_count": 4,
   "metadata": {
    "collapsed": false
   },
   "outputs": [
    {
     "name": "stdout",
     "output_type": "stream",
     "text": [
      "Number of nodata and NaN values = 0\n",
      "Finished initializing \"closed\" array.\n",
      " \n",
      "Putting boundary pixels on heap...\n",
      "Number of pixels on heap = 1748\n",
      "Finished with heap insertion.\n",
      " \n",
      "n_closed = 0 of 190944\n",
      "n_closed = 5000 of 190944\n",
      "n_closed = 10000 of 190944\n",
      "n_closed = 15000 of 190944\n",
      "n_closed = 20000 of 190944\n",
      "n_closed = 25000 of 190944\n",
      "n_closed = 30000 of 190944\n",
      "n_closed = 35000 of 190944\n",
      "n_closed = 40000 of 190944\n",
      "n_closed = 45000 of 190944\n",
      "n_closed = 50000 of 190944\n",
      "n_closed = 55000 of 190944\n",
      "n_closed = 60000 of 190944\n",
      "n_closed = 65000 of 190944\n",
      "n_closed = 70000 of 190944\n",
      "n_closed = 75000 of 190944\n",
      "n_closed = 80000 of 190944\n",
      "n_closed = 85000 of 190944\n",
      "n_closed = 90000 of 190944\n",
      "n_closed = 95000 of 190944\n",
      "n_closed = 100000 of 190944\n",
      "n_closed = 105000 of 190944\n",
      "n_closed = 110000 of 190944\n",
      "n_closed = 115000 of 190944\n",
      "n_closed = 120000 of 190944\n",
      "n_closed = 125000 of 190944\n",
      "n_closed = 130000 of 190944\n",
      "n_closed = 135000 of 190944\n",
      "n_closed = 140000 of 190944\n",
      "n_closed = 145000 of 190944\n",
      "n_closed = 150000 of 190944\n",
      "n_closed = 155000 of 190944\n",
      "n_closed = 160000 of 190944\n",
      "n_closed = 165000 of 190944\n",
      "n_closed = 170000 of 190944\n",
      "n_closed = 175000 of 190944\n",
      "n_closed = 180000 of 190944\n",
      "n_closed = 185000 of 190944\n",
      "n_closed = 190000 of 190944\n",
      "Total pixels   = 190944\n",
      "Raised  pixels = 4902\n",
      "Drained pixels = 190946\n",
      "Run time for fill_pits() =     4.2458 [seconds]\n",
      "Finished with fill_pits().\n",
      " \n"
     ]
    }
   ],
   "source": [
    "fill_pits.fill_pits( DEM, 'INTEGER', grid_info.ncols, grid_info.nrows, SILENT=False)"
   ]
  },
  {
   "cell_type": "markdown",
   "metadata": {},
   "source": [
    "# Save new DEM to a file"
   ]
  },
  {
   "cell_type": "code",
   "execution_count": 7,
   "metadata": {
    "collapsed": false
   },
   "outputs": [
    {
     "name": "stdout",
     "output_type": "stream",
     "text": [
      "Writing grid values...\n",
      "Finished writing grid to:\n",
      "    /Users/peckhams/TF_Tests/Basin1/KY_Sub_DEM.rtg\n"
     ]
    }
   ],
   "source": [
    "new_DEM_file = in_prefix + '_DEM.rtg'\n",
    "rtg_files.write_grid( DEM, new_DEM_file, grid_info, SILENT=False)"
   ]
  },
  {
   "cell_type": "markdown",
   "metadata": {},
   "source": [
    "# Create a grid of D8 flow codes"
   ]
  },
  {
   "cell_type": "code",
   "execution_count": 10,
   "metadata": {
    "collapsed": false
   },
   "outputs": [
    {
     "name": "stdout",
     "output_type": "stream",
     "text": [
      "D8 component: Initializing...\n",
      "Computing pixel area grid...\n",
      "Computing pixel dimensions...\n",
      "    min(dx), max(dx) = 73.5509 , 73.9328  [m]\n",
      "    min(dy), max(dy) = 92.4853 , 92.4914  [m]\n",
      "    min(dd), max(dd) = 118.171 , 118.404  [m]\n",
      "    min(da), max(da) = 6802.82407417, 6837.69912008 [m^2]\n",
      "Computing pixel IDs...\n",
      "Computing edge pixel IDs...\n",
      "Computing \"not_edge\" grid...\n",
      "Computing \"resolve array\"...\n",
      "Reading grid values...\n",
      "Finished reading grid from:\n",
      "  /Users/peckhams/TF_Tests/Basin1/KY_Sub_DEM.rtg\n",
      "   min(DEM), max(DEM) = -32768 17408\n",
      "Imported netCDF4 version: 1.2.4\n",
      "D8 component: Updating...\n",
      "Updating D8 flow grid...\n",
      "   update_d8_codes(): Initializing grid...\n",
      "   --------------------------------------------\n",
      "   Data type of flow grid at start = int16\n",
      "   Number of flats         = 47780\n",
      "   Number of 1-pixel pits  = 11939\n",
      "   Number of nodata/NaN    = 36231\n",
      "   min(codes), max(codes)  = -300 136\n",
      "   --------------------------------------------\n",
      "   update_d8_codes(): Breaking ties...\n",
      "   update_d8_codes(): Linking flats...\n",
      "   Number of iterations = 2  (in link_flats())\n",
      "Updating flow width grid...\n",
      "    min(dw), max(dw) = 73.5509, 118.404 [m]\n",
      "Updating flow length grid...\n",
      "    min(ds), max(ds) = 73.5509, 118.404 [m]\n",
      "Updating upstream area grid...\n",
      "    min(A), max(A) = 0.0, 0.0205098 [km^2]\n",
      "    Number of iterations = 3\n"
     ]
    }
   ],
   "source": [
    "from topoflow.components import d8_global\n",
    "d8 = d8_global.d8_component()\n",
    "d8.DEBUG = False\n",
    "site_prefix = 'KY_Sub'\n",
    "filename = site_prefix + '_d8_global.cfg'\n",
    "cfg_file = in_dir + filename\n",
    "time = 0.0\n",
    "d8.initialize( cfg_file=cfg_file, SILENT=False, REPORT=True )\n",
    "d8.update( time, SILENT=False, REPORT=True )"
   ]
  },
  {
   "cell_type": "markdown",
   "metadata": {},
   "source": [
    "# Save grid of D8 flow codes"
   ]
  },
  {
   "cell_type": "code",
   "execution_count": 11,
   "metadata": {
    "collapsed": false
   },
   "outputs": [
    {
     "name": "stdout",
     "output_type": "stream",
     "text": [
      "-----------------\n",
      "Grid Information\n",
      "-----------------\n",
      "grid_file    = KY_Sub_rawDEM.rtg\n",
      "data_source  = USGS 1-Degree\n",
      "ncols        = 408\n",
      "nrows        = 468\n",
      "data_type    = INTEGER\n",
      "byte_order   = LSB\n",
      "pixel_geom   = 0\n",
      "xres         = 3.0\n",
      "yres         = 3.0\n",
      "zres         = 1.0\n",
      "z_units      = METERS\n",
      "y_south_edge = 37.25\n",
      "y_north_edge = 37.639999\n",
      "x_east_edge  = -82.625\n",
      "x_west_edge  = -82.964996\n",
      "box_units    = DEGREES\n",
      "gmin         = 183.0\n",
      "gmax         = 701.0\n",
      "UTM_zone     = UNKNOWN\n",
      " \n"
     ]
    }
   ],
   "source": [
    "out_dir = '/Users/peckhams/TF_Tests/Basin1/'\n",
    "out_prefix = out_dir + site_prefix\n",
    "DEM_file = out_prefix + '_DEM.rti'\n",
    "grid_info = rti_files.read_info( DEM_file, REPORT=True )\n",
    "d8_code_file = out_prefix + '_flow.rtg'\n",
    "rtg_files.write_grid(d8.d8_grid, d8_code_file, grid_info, RTG_type='BYTE')"
   ]
  },
  {
   "cell_type": "markdown",
   "metadata": {},
   "source": [
    "# Save D8 total contributing area grid"
   ]
  },
  {
   "cell_type": "code",
   "execution_count": 14,
   "metadata": {
    "collapsed": false
   },
   "outputs": [
    {
     "name": "stdout",
     "output_type": "stream",
     "text": [
      "Writing grid values...\n",
      "Finished writing grid to:\n",
      "    /Users/peckhams/TF_Tests/Basin1/KY_Sub_d8-area.rtg\n"
     ]
    }
   ],
   "source": [
    "d8_area_file = out_prefix + '_d8-area.rtg'\n",
    "rtg_files.write_grid( d8.A, d8_area_file, grid_info, RTG_type='FLOAT', SILENT=False)"
   ]
  },
  {
   "cell_type": "markdown",
   "metadata": {},
   "source": [
    "# Compute and save D8 slope grid"
   ]
  },
  {
   "cell_type": "code",
   "execution_count": 16,
   "metadata": {
    "collapsed": false
   },
   "outputs": [
    {
     "name": "stdout",
     "output_type": "stream",
     "text": [
      "Writing grid values...\n",
      "Finished writing grid to:\n",
      "    /Users/peckhams/TF_Tests/Basin1/KY_Sub_d8-slope.rtg\n"
     ]
    }
   ],
   "source": [
    "pIDs = d8.parent_IDs\n",
    "d8_slope = (d8.DEM - d8.DEM[ pIDs ]) / d8.ds\n",
    "d8_slope_file = out_prefix + '_d8-slope.rtg'\n",
    "rtg_files.write_grid( d8_slope, d8_slope_file, grid_info, RTG_type='FLOAT', SILENT=False)"
   ]
  },
  {
   "cell_type": "markdown",
   "metadata": {},
   "source": [
    "# Create a DEM with smoother longitudinal profiles"
   ]
  },
  {
   "cell_type": "code",
   "execution_count": 36,
   "metadata": {
    "collapsed": false
   },
   "outputs": [
    {
     "name": "stdout",
     "output_type": "stream",
     "text": [
      " \n",
      "DEM Smoother component: Initializing...\n",
      "cfg_file = KY_Sub_path_info.cfg\n",
      "cfg_file = KY_Sub_dem_smoother.cfg\n",
      "Process component: Reading grid info...\n",
      "Computing pixel area grid...\n"
     ]
    },
    {
     "ename": "TypeError",
     "evalue": "unsupported operand type(s) for +: 'NoneType' and 'str'",
     "output_type": "error",
     "traceback": [
      "\u001b[0;31m---------------------------------------------------------------------------\u001b[0m",
      "\u001b[0;31mTypeError\u001b[0m                                 Traceback (most recent call last)",
      "\u001b[0;32m<ipython-input-36-c98f41417a97>\u001b[0m in \u001b[0;36m<module>\u001b[0;34m()\u001b[0m\n\u001b[1;32m      7\u001b[0m \u001b[0;31m# c.site_prefix = 'KY_Sub'\u001b[0m\u001b[0;34m\u001b[0m\u001b[0;34m\u001b[0m\u001b[0m\n\u001b[1;32m      8\u001b[0m \u001b[0mc\u001b[0m\u001b[0;34m.\u001b[0m\u001b[0mcase_prefix\u001b[0m \u001b[0;34m=\u001b[0m \u001b[0;34m'KY_Sub'\u001b[0m\u001b[0;34m\u001b[0m\u001b[0m\n\u001b[0;32m----> 9\u001b[0;31m \u001b[0mc\u001b[0m\u001b[0;34m.\u001b[0m\u001b[0minitialize\u001b[0m\u001b[0;34m(\u001b[0m \u001b[0mcfg_file\u001b[0m\u001b[0;34m=\u001b[0m\u001b[0mcfg_file\u001b[0m\u001b[0;34m,\u001b[0m \u001b[0mmode\u001b[0m\u001b[0;34m=\u001b[0m\u001b[0;34m'driver'\u001b[0m\u001b[0;34m)\u001b[0m\u001b[0;34m\u001b[0m\u001b[0m\n\u001b[0m\u001b[1;32m     10\u001b[0m \u001b[0mc\u001b[0m\u001b[0;34m.\u001b[0m\u001b[0mupdate\u001b[0m\u001b[0;34m(\u001b[0m\u001b[0;34m)\u001b[0m\u001b[0;34m\u001b[0m\u001b[0m\n",
      "\u001b[0;32m/Users/peckhams/Dropbox/TopoFlow_3.5/topoflow/components/smooth_DEM.py\u001b[0m in \u001b[0;36minitialize\u001b[0;34m(self, cfg_file, mode, SILENT)\u001b[0m\n\u001b[1;32m    334\u001b[0m     \u001b[0;31m#-------------------------------------------------------------------\u001b[0m\u001b[0;34m\u001b[0m\u001b[0;34m\u001b[0m\u001b[0m\n\u001b[1;32m    335\u001b[0m     \u001b[0;32mdef\u001b[0m \u001b[0mupdate\u001b[0m\u001b[0;34m(\u001b[0m\u001b[0mself\u001b[0m\u001b[0;34m,\u001b[0m \u001b[0mtime_seconds\u001b[0m\u001b[0;34m=\u001b[0m\u001b[0mNone\u001b[0m\u001b[0;34m)\u001b[0m\u001b[0;34m:\u001b[0m\u001b[0;34m\u001b[0m\u001b[0m\n\u001b[0;32m--> 336\u001b[0;31m \u001b[0;34m\u001b[0m\u001b[0m\n\u001b[0m\u001b[1;32m    337\u001b[0m         \u001b[0;31m#---------------------------------------------\u001b[0m\u001b[0;34m\u001b[0m\u001b[0;34m\u001b[0m\u001b[0m\n\u001b[1;32m    338\u001b[0m         \u001b[0;31m# Note that u and d from previous time step\u001b[0m\u001b[0;34m\u001b[0m\u001b[0;34m\u001b[0m\u001b[0m\n",
      "\u001b[0;32m/Users/peckhams/Dropbox/TopoFlow_3.5/topoflow/components/smooth_DEM.py\u001b[0m in \u001b[0;36minitialize_d8_vars\u001b[0;34m(self)\u001b[0m\n\u001b[1;32m    504\u001b[0m \u001b[0;31m##        if (self.DEBUG):\u001b[0m\u001b[0;34m\u001b[0m\u001b[0;34m\u001b[0m\u001b[0m\n\u001b[1;32m    505\u001b[0m \u001b[0;31m##            self.d8.A_units = 'km^2'   #####\u001b[0m\u001b[0;34m\u001b[0m\u001b[0;34m\u001b[0m\u001b[0m\n\u001b[0;32m--> 506\u001b[0;31m \u001b[0;34m\u001b[0m\u001b[0m\n\u001b[0m\u001b[1;32m    507\u001b[0m     \u001b[0;31m#   initialize_d8_vars()\u001b[0m\u001b[0;34m\u001b[0m\u001b[0;34m\u001b[0m\u001b[0m\n\u001b[1;32m    508\u001b[0m     \u001b[0;31m#-------------------------------------------------------------------\u001b[0m\u001b[0;34m\u001b[0m\u001b[0;34m\u001b[0m\u001b[0m\n",
      "\u001b[0;32m/Users/peckhams/Dropbox/TopoFlow_3.5/topoflow/components/d8_base.pyc\u001b[0m in \u001b[0;36minitialize\u001b[0;34m(self, cfg_file, mode, SILENT, REPORT)\u001b[0m\n\u001b[1;32m    274\u001b[0m             \u001b[0;31m#-----------------------------------------------------------------\u001b[0m\u001b[0;34m\u001b[0m\u001b[0;34m\u001b[0m\u001b[0m\n\u001b[1;32m    275\u001b[0m                         \u001b[0mcfg_extension\u001b[0m \u001b[0;34m=\u001b[0m \u001b[0mself\u001b[0m\u001b[0;34m.\u001b[0m\u001b[0mget_attribute\u001b[0m\u001b[0;34m(\u001b[0m \u001b[0;34m'cfg_extension'\u001b[0m \u001b[0;34m)\u001b[0m\u001b[0;34m\u001b[0m\u001b[0m\n\u001b[0;32m--> 276\u001b[0;31m                         \u001b[0;32mprint\u001b[0m \u001b[0;34m'cfg_extension ='\u001b[0m\u001b[0;34m,\u001b[0m \u001b[0mcfg_extension\u001b[0m\u001b[0;34m\u001b[0m\u001b[0m\n\u001b[0m\u001b[1;32m    277\u001b[0m                         \u001b[0;32mprint\u001b[0m \u001b[0;34m'case_prefix = '\u001b[0m\u001b[0;34m,\u001b[0m \u001b[0mself\u001b[0m\u001b[0;34m.\u001b[0m\u001b[0mcase_prefix\u001b[0m\u001b[0;34m\u001b[0m\u001b[0m\n\u001b[1;32m    278\u001b[0m \u001b[0;34m\u001b[0m\u001b[0m\n",
      "\u001b[0;31mTypeError\u001b[0m: unsupported operand type(s) for +: 'NoneType' and 'str'"
     ]
    }
   ],
   "source": [
    "from topoflow.components import smooth_DEM\n",
    "c = smooth_DEM.DEM_smoother()\n",
    "c.DEBUG = True\n",
    "cfg_directory = in_dir\n",
    "cfg_prefix = 'KY_Sub'\n",
    "cfg_file = cfg_prefix + '_dem_smoother.cfg'\n",
    "# c.site_prefix = 'KY_Sub'\n",
    "c.case_prefix = 'KY_Sub'\n",
    "c.initialize( cfg_file=cfg_file, mode='driver')\n",
    "c.update()"
   ]
  },
  {
   "cell_type": "code",
   "execution_count": null,
   "metadata": {
    "collapsed": true
   },
   "outputs": [],
   "source": []
  }
 ],
 "metadata": {
  "anaconda-cloud": {},
  "kernelspec": {
   "display_name": "Python [Root]",
   "language": "python",
   "name": "Python [Root]"
  },
  "language_info": {
   "codemirror_mode": {
    "name": "ipython",
    "version": 2
   },
   "file_extension": ".py",
   "mimetype": "text/x-python",
   "name": "python",
   "nbconvert_exporter": "python",
   "pygments_lexer": "ipython2",
   "version": "2.7.12"
  }
 },
 "nbformat": 4,
 "nbformat_minor": 0
}
