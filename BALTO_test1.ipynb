{
 "cells": [
  {
   "cell_type": "markdown",
   "metadata": {},
   "source": [
    "## Run some tests with ipyleaflet, interactive maps"
   ]
  },
  {
   "cell_type": "code",
   "execution_count": 1,
   "metadata": {},
   "outputs": [
    {
     "data": {
      "application/vnd.jupyter.widget-view+json": {
       "model_id": "2f9557822144449f8d743d25184f5e0b",
       "version_major": 2,
       "version_minor": 0
      },
      "text/plain": [
       "TWFwKGJhc2VtYXA9eyd1cmwnOiAnaHR0cHM6Ly97c30udGlsZS5vcGVuc3RyZWV0bWFwLm9yZy97en0ve3h9L3t5fS5wbmcnLCAnbWF4X3pvb20nOiAxOSwgJ2F0dHJpYnV0aW9uJzogJ01hcCDigKY=\n"
      ]
     },
     "metadata": {},
     "output_type": "display_data"
    }
   ],
   "source": [
    "from ipyleaflet import Map, basemaps, basemap_to_tiles\n",
    "\n",
    "m = Map(\n",
    "    layers=(basemap_to_tiles(basemaps.NASAGIBS.ModisTerraTrueColorCR, \"2017-04-08\"), ),\n",
    "    center=(52.204793, 360.121558),\n",
    "    zoom=4\n",
    ")\n",
    "\n",
    "m"
   ]
  },
  {
   "cell_type": "code",
   "execution_count": 2,
   "metadata": {},
   "outputs": [
    {
     "data": {
      "application/vnd.jupyter.widget-view+json": {
       "model_id": "31adb78ecc7f4c618e78a7b8d0addca2",
       "version_major": 2,
       "version_minor": 0
      },
      "text/plain": [
       "TWFwKGJhc2VtYXA9eyd1cmwnOiAnaHR0cHM6Ly97c30udGlsZS5vcGVuc3RyZWV0bWFwLm9yZy97en0ve3h9L3t5fS5wbmcnLCAnbWF4X3pvb20nOiAxOSwgJ2F0dHJpYnV0aW9uJzogJ01hcCDigKY=\n"
      ]
     },
     "metadata": {},
     "output_type": "display_data"
    }
   ],
   "source": [
    "from ipyleaflet import Marker\n",
    "\n",
    "center = (52.204793, 360.121558)\n",
    "\n",
    "m = Map(center=center, zoom=15)\n",
    "\n",
    "marker = Marker(location=center, draggable=False)\n",
    "m.add_layer(marker);\n",
    "\n",
    "m"
   ]
  },
  {
   "cell_type": "code",
   "execution_count": 3,
   "metadata": {},
   "outputs": [
    {
     "data": {
      "application/vnd.jupyter.widget-view+json": {
       "model_id": "c8dc421c98ec4b57b486b9858a494563",
       "version_major": 2,
       "version_minor": 0
      },
      "text/plain": [
       "TWFwKGJhc2VtYXA9eyd1cmwnOiAnaHR0cHM6Ly97c30udGlsZS5vcGVuc3RyZWV0bWFwLm9yZy97en0ve3h9L3t5fS5wbmcnLCAnbWF4X3pvb20nOiAxOSwgJ2F0dHJpYnV0aW9uJzogJ01hcCDigKY=\n"
      ]
     },
     "metadata": {},
     "output_type": "display_data"
    }
   ],
   "source": [
    "from ipyleaflet import Map, WMSLayer\n",
    "\n",
    "wms = WMSLayer(\n",
    "    url=\"https://demo.boundlessgeo.com/geoserver/ows?\",\n",
    "    layers=\"nasa:bluemarble\"\n",
    ")\n",
    "\n",
    "m = Map(layers=(wms, ), center=(42.5531, -48.6914), zoom=3)\n",
    "\n",
    "m"
   ]
  },
  {
   "cell_type": "code",
   "execution_count": 4,
   "metadata": {
    "scrolled": true
   },
   "outputs": [
    {
     "data": {
      "application/vnd.jupyter.widget-view+json": {
       "model_id": "f50f1474c1b6482dbe6566ee7550ec36",
       "version_major": 2,
       "version_minor": 0
      },
      "text/plain": [
       "TWFwKGJhc2VtYXA9eyd1cmwnOiAnaHR0cHM6Ly97c30udGlsZS5vcGVuc3RyZWV0bWFwLm9yZy97en0ve3h9L3t5fS5wbmcnLCAnbWF4X3pvb20nOiAxOSwgJ2F0dHJpYnV0aW9uJzogJ01hcCDigKY=\n"
      ]
     },
     "metadata": {},
     "output_type": "display_data"
    }
   ],
   "source": [
    "from ipyleaflet import Map, VideoOverlay\n",
    "\n",
    "m = Map(center=(25, -115), zoom=4)\n",
    "\n",
    "video = VideoOverlay(\n",
    "    url=\"https://www.mapbox.com/bites/00188/patricia_nasa.webm\",\n",
    "    bounds=((13, -130), (32, -100))\n",
    ")\n",
    "\n",
    "m.add_layer(video);\n",
    "m"
   ]
  },
  {
   "cell_type": "markdown",
   "metadata": {},
   "source": [
    "## Download NetCDF test file from OpenDAP server with pydap"
   ]
  },
  {
   "cell_type": "code",
   "execution_count": 5,
   "metadata": {},
   "outputs": [
    {
     "name": "stdout",
     "output_type": "stream",
     "text": [
      "(12, 90, 180)\n",
      ">f4\n",
      "[array([[[-1.2628571e+00, -9.9999998e+33, -9.9999998e+33, -9.9999998e+33],\n",
      "        [-7.6916665e-01, -7.7999997e-01, -6.7545450e-01, -5.9571427e-01],\n",
      "        [ 1.2833333e-01, -5.0000016e-02, -6.3636363e-02, -1.4166667e-01],\n",
      "        [ 6.3800001e-01,  8.9538461e-01,  7.2166663e-01,  8.1000000e-01]]],\n",
      "      dtype=float32), array([366.]), array([-69., -67., -65., -63.]), array([41., 43., 45., 47.])]\n"
     ]
    }
   ],
   "source": [
    "import pydap\n",
    "from pydap.client import open_url\n",
    "dataset = open_url('http://test.opendap.org/dap/data/nc/coads_climatology.nc')\n",
    "var = dataset['SST']\n",
    "print(var.shape)\n",
    "print(var.dtype)\n",
    "data = var[0,10:14,10:14]  # this will download data from the server\n",
    "data\n",
    "print(data.data)\n"
   ]
  },
  {
   "cell_type": "markdown",
   "metadata": {},
   "source": [
    "## Import several Python packages to check availability"
   ]
  },
  {
   "cell_type": "code",
   "execution_count": 6,
   "metadata": {},
   "outputs": [],
   "source": [
    "import numpy\n",
    "import matplotlib\n",
    "import scipy\n",
    "import bokeh\n",
    "import pandas\n",
    "import plotly\n",
    "import nltk\n",
    "import autocorrect"
   ]
  },
  {
   "cell_type": "markdown",
   "metadata": {},
   "source": [
    "## Run some tests with WordNet from NLTK"
   ]
  },
  {
   "cell_type": "code",
   "execution_count": 7,
   "metadata": {},
   "outputs": [
    {
     "name": "stdout",
     "output_type": "stream",
     "text": [
      "boil.n.01\n",
      "boiling_point.n.01\n",
      "boil.v.01\n",
      "boil.v.02\n",
      "boil.v.03\n",
      "churn.v.02\n",
      "seethe.v.02\n",
      " \n",
      "jump.n.01\n",
      "leap.n.02\n",
      "jump.n.03\n",
      "startle.n.01\n",
      "jump.n.05\n",
      "jump.n.06\n",
      "jump.v.01\n",
      "startle.v.02\n",
      "jump.v.03\n",
      "jump.v.04\n",
      "leap_out.v.01\n",
      "jump.v.06\n",
      "rise.v.11\n",
      "jump.v.08\n",
      "derail.v.02\n",
      "chute.v.01\n",
      "jump.v.11\n",
      "jumpstart.v.01\n",
      "jump.v.13\n",
      "leap.v.02\n",
      "alternate.v.01\n",
      " \n",
      "flow.n.01\n",
      "flow.n.02\n",
      "flow.n.03\n",
      "flow.n.04\n",
      "stream.n.04\n",
      "stream.n.02\n",
      "menstruation.n.01\n",
      "flow.v.01\n",
      "run.v.06\n",
      "flow.v.03\n",
      "flow.v.04\n",
      "hang.v.05\n",
      "flow.v.06\n",
      "menstruate.v.01\n",
      " \n",
      "gyrate.v.01\n",
      "spin.v.01\n"
     ]
    }
   ],
   "source": [
    "from nltk.corpus import wordnet as wn\n",
    "\n",
    "sets = wn.synsets('boil')\n",
    "for s in sets:\n",
    "    print s.name()\n",
    "    # print s.pos()\n",
    "\n",
    "print ' '\n",
    "sets = wn.synsets('jump')\n",
    "for s in sets:\n",
    "    print s.name()\n",
    "    # print s.pos()\n",
    "\n",
    "print ' '\n",
    "sets = wn.synsets('flow')\n",
    "for s in sets:\n",
    "    print s.name()\n",
    "    # print s.pos()\n",
    "    \n",
    "print ' '\n",
    "sets = wn.synsets('gyrate')\n",
    "for s in sets:\n",
    "    print s.name()\n",
    "    # print s.pos()"
   ]
  },
  {
   "cell_type": "markdown",
   "metadata": {},
   "source": [
    "## Run some tests with VerbNet from NLTK"
   ]
  },
  {
   "cell_type": "code",
   "execution_count": 8,
   "metadata": {},
   "outputs": [
    {
     "data": {
      "text/plain": [
       "[u'December',\n",
       " u'FedEx',\n",
       " u'UPS',\n",
       " u'abandon',\n",
       " u'abase',\n",
       " u'abash',\n",
       " u'abate',\n",
       " u'abbreviate',\n",
       " u'abduct',\n",
       " u'abet',\n",
       " u'abhor',\n",
       " u'abolish',\n",
       " u'abound',\n",
       " u'abrade',\n",
       " u'abridge',\n",
       " u'absolve',\n",
       " u'abstain',\n",
       " u'abstract',\n",
       " u'abuse',\n",
       " u'abut',\n",
       " u'accelerate',\n",
       " u'accept',\n",
       " u'acclaim',\n",
       " u'accompany',\n",
       " u'accrue']"
      ]
     },
     "execution_count": 8,
     "metadata": {},
     "output_type": "execute_result"
    }
   ],
   "source": [
    "from nltk.corpus import verbnet as vn\n",
    "vn.lemmas()[0:25]\n",
    "\n",
    "# help(vn)"
   ]
  },
  {
   "cell_type": "markdown",
   "metadata": {},
   "source": [
    "## You can display equations with TeX formatting"
   ]
  },
  {
   "cell_type": "markdown",
   "metadata": {},
   "source": [
    "$e^{i \\, \\pi} + 1 = 0$"
   ]
  },
  {
   "cell_type": "code",
   "execution_count": 9,
   "metadata": {},
   "outputs": [
    {
     "ename": "ImportError",
     "evalue": "No module named pyenchant",
     "output_type": "error",
     "traceback": [
      "\u001b[0;31m---------------------------------------------------------------------------\u001b[0m",
      "\u001b[0;31mImportError\u001b[0m                               Traceback (most recent call last)",
      "\u001b[0;32m<ipython-input-9-d716c368a002>\u001b[0m in \u001b[0;36m<module>\u001b[0;34m()\u001b[0m\n\u001b[0;32m----> 1\u001b[0;31m \u001b[0;32mimport\u001b[0m \u001b[0mpyenchant\u001b[0m\u001b[0;34m\u001b[0m\u001b[0m\n\u001b[0m",
      "\u001b[0;31mImportError\u001b[0m: No module named pyenchant"
     ]
    }
   ],
   "source": [
    "import pyenchant"
   ]
  },
  {
   "cell_type": "code",
   "execution_count": null,
   "metadata": {},
   "outputs": [],
   "source": []
  }
 ],
 "metadata": {
  "kernelspec": {
   "display_name": "Python 2",
   "language": "python",
   "name": "python2"
  },
  "language_info": {
   "codemirror_mode": {
    "name": "ipython",
    "version": 2
   },
   "file_extension": ".py",
   "mimetype": "text/x-python",
   "name": "python",
   "nbconvert_exporter": "python",
   "pygments_lexer": "ipython2",
   "version": "2.7.12"
  }
 },
 "nbformat": 4,
 "nbformat_minor": 2
}
